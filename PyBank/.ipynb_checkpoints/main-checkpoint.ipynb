{
 "cells": [
  {
   "cell_type": "code",
   "execution_count": 66,
   "metadata": {},
   "outputs": [],
   "source": [
    "from pathlib import Path\n",
    "import csv"
   ]
  },
  {
   "cell_type": "code",
   "execution_count": 67,
   "metadata": {},
   "outputs": [],
   "source": [
    "# Initializes csv path\n",
    "csvpath = Path('../data//budget_data.csv')"
   ]
  },
  {
   "cell_type": "code",
   "execution_count": 68,
   "metadata": {},
   "outputs": [],
   "source": [
    "# Initializes pnl dict\n",
    "pnl = []"
   ]
  },
  {
   "cell_type": "code",
   "execution_count": 69,
   "metadata": {},
   "outputs": [],
   "source": [
    "# Reads CSV into a dictionary\n",
    "with open(csvpath, 'r') as csvfile:\n",
    "    csvreader = csv.reader(csvfile, delimiter=',')\n",
    "    csv_header = next(csvreader)\n",
    "    for row in csvreader:\n",
    "        row[1] = int(row[1])\n",
    "        pnl.append(row)\n",
    "#        date = row[0]\n",
    "#        profit_losses = int(row[1])\n",
    "#        pnl['Date'] = (date)\n",
    "#        pnl['Profit/Losses'] = 0\n",
    "#        pnl['Date'][row] = row[0]\n",
    "#        pnl['Profit/Losses'] = int(row[1])\n",
    "#        pnl = {rows[0]:int(rows[1]) for rows in csvreader}\n"
   ]
  },
  {
   "cell_type": "code",
   "execution_count": 70,
   "metadata": {},
   "outputs": [],
   "source": [
    "total_months, net_pnl, average_pnl_change, greatest_increase, greatest_decrease = 0, 0, 0, 0, 0\n",
    "\n",
    "# Initialize minimum key-value pair\n",
    "minimum_key = \"\"\n",
    "minimum_value = 0\n",
    "\n",
    "# Initialize maximum key-value pair\n",
    "maximum_key = \"\"\n",
    "maximum_value = 0"
   ]
  },
  {
   "cell_type": "code",
   "execution_count": 71,
   "metadata": {},
   "outputs": [],
   "source": [
    "changes_in_pnl = []\n",
    "prev_val = 0\n",
    "counter = 0\n",
    "for x in pnl:\n",
    "    if counter == 0:\n",
    "        prev_val = pnl[counter][1]\n",
    "    elif counter != 0:\n",
    "        change=(pnl[counter][1]-prev_val)\n",
    "        changes_in_pnl.append(change)\n",
    "        prev_val = pnl[counter][1]\n",
    "#        changes_in_pnl.append('1')\n",
    "    counter += 1"
   ]
  },
  {
   "cell_type": "code",
   "execution_count": 72,
   "metadata": {},
   "outputs": [
    {
     "name": "stdout",
     "output_type": "stream",
     "text": [
      "Financial Analysis\n",
      "----------------------------\n",
      "Total Months: 86\n",
      "Total PnL: $38,382,578.00\n",
      "Average Change: $-2,315.12\n",
      "Greatest Increase in Profits: Feb-2012 $1,170,593.00\n",
      "Greatest Decrease in Profits: Sep-2013 $-1,196,225.00\n"
     ]
    }
   ],
   "source": [
    "for date, profit_losses in pnl:\n",
    "#    print(f'Date: {date} | PnL: {profit_losses}')\n",
    "    net_pnl += int(profit_losses)\n",
    "    \n",
    "    # Logic to determine min value and associated key\n",
    "    if minimum_value == 0:\n",
    "        minimum_value = int(profit_losses)\n",
    "        minimum_key = date\n",
    "    elif int(profit_losses) < int(minimum_value):\n",
    "        minimum_value = profit_losses\n",
    "        minimum_key = date\n",
    "    \n",
    "    # Logic to determine max value and associated key\n",
    "    if  profit_losses > maximum_value:\n",
    "        maximum_value = profit_losses\n",
    "        maximum_key = date\n",
    "    \n",
    "    # Add a month to our total\n",
    "    total_months += 1\n",
    "\n",
    "# Calculate average pnl change\n",
    "average_pnl_change = sum(changes_in_pnl)/len(changes_in_pnl)\n",
    "\n",
    "# Format Metrics\n",
    "formatted_total_months = '{:,}'.format(total_months)\n",
    "formatted_net_pnl = '${:,.2f}'.format(net_pnl)\n",
    "formatted_average_pnl_change = '${:,.2f}'.format(average_pnl_change)\n",
    "formatted_maximum_value = '${:,.2f}'.format(maximum_value)\n",
    "formatted_minimum_value = '${:,.2f}'.format(minimum_value)\n",
    "        \n",
    "# Print the metrics\n",
    "print('Financial Analysis')\n",
    "print('----------------------------')\n",
    "print(f'Total Months: {formatted_total_months}')\n",
    "print(f'Total PnL: {formatted_net_pnl}')\n",
    "print(f'Average Change: {formatted_average_pnl_change}')\n",
    "print(f'Greatest Increase in Profits: {maximum_key} {formatted_maximum_value}')\n",
    "print(f'Greatest Decrease in Profits: {minimum_key} {formatted_minimum_value}')\n",
    "\n",
    "    "
   ]
  }
 ],
 "metadata": {
  "kernelspec": {
   "display_name": "Python 3",
   "language": "python",
   "name": "python3"
  },
  "language_info": {
   "codemirror_mode": {
    "name": "ipython",
    "version": 3
   },
   "file_extension": ".py",
   "mimetype": "text/x-python",
   "name": "python",
   "nbconvert_exporter": "python",
   "pygments_lexer": "ipython3",
   "version": "3.8.5"
  }
 },
 "nbformat": 4,
 "nbformat_minor": 4
}
